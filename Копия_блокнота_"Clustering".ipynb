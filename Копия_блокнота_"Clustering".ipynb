{
  "nbformat": 4,
  "nbformat_minor": 0,
  "metadata": {
    "colab": {
      "name": "Копия блокнота \"Clustering\"",
      "provenance": [],
      "collapsed_sections": [
        "1RJDv7E9j6ou"
      ],
      "authorship_tag": "ABX9TyNQIF9X3O3o+7Yp9k0Cf5xC",
      "include_colab_link": true
    },
    "kernelspec": {
      "name": "python3",
      "display_name": "Python 3"
    },
    "language_info": {
      "name": "python"
    }
  },
  "cells": [
    {
      "cell_type": "markdown",
      "metadata": {
        "id": "view-in-github",
        "colab_type": "text"
      },
      "source": [
        "<a href=\"https://colab.research.google.com/github/AndreyRos/Test/blob/master/%D0%9A%D0%BE%D0%BF%D0%B8%D1%8F_%D0%B1%D0%BB%D0%BE%D0%BA%D0%BD%D0%BE%D1%82%D0%B0_%22Clustering%22.ipynb\" target=\"_parent\"><img src=\"https://colab.research.google.com/assets/colab-badge.svg\" alt=\"Open In Colab\"/></a>"
      ]
    },
    {
      "cell_type": "markdown",
      "metadata": {
        "id": "uuP3gqmx2PMJ"
      },
      "source": [
        "#Загрузка данных"
      ]
    },
    {
      "cell_type": "markdown",
      "metadata": {
        "id": "e2ScFoqwvAO6"
      },
      "source": [
        ""
      ]
    },
    {
      "cell_type": "code",
      "metadata": {
        "id": "Z1KBH6aNtDew"
      },
      "source": [
        "import numpy as np\n",
        "import pandas as pd\n",
        "import statsmodels.api as sm\n",
        "import matplotlib.pyplot as plt\n",
        "import seaborn as sns\n",
        "sns.set()\n",
        "from sklearn.cluster import KMeans\n",
        "from sklearn.preprocessing import StandardScaler, normalize\n",
        "from sklearn.metrics import silhouette_score"
      ],
      "execution_count": null,
      "outputs": []
    },
    {
      "cell_type": "code",
      "metadata": {
        "colab": {
          "base_uri": "https://localhost:8080/"
        },
        "id": "us6bhE5TvBEK",
        "outputId": "d4114656-63cf-4691-c36c-5296c36ea6dc"
      },
      "source": [
        "#Локальное подключение Google Диска\n",
        "\n",
        "from google.colab import drive\n",
        "drive.mount('/content/drive')"
      ],
      "execution_count": null,
      "outputs": [
        {
          "output_type": "stream",
          "name": "stdout",
          "text": [
            "Drive already mounted at /content/drive; to attempt to forcibly remount, call drive.mount(\"/content/drive\", force_remount=True).\n"
          ]
        }
      ]
    },
    {
      "cell_type": "code",
      "metadata": {
        "id": "JTDtWp9itYwb"
      },
      "source": [
        "# Function to retrieve api_key\n",
        "\n",
        "def get_data(path):\n",
        "    with open(path) as f:\n",
        "        return pd.read_csv(path, sep=';',index_col='NUM777')"
      ],
      "execution_count": null,
      "outputs": []
    },
    {
      "cell_type": "code",
      "metadata": {
        "id": "vhZQY5h2yFPI"
      },
      "source": [
        "data = get_data(\"/content/drive/My Drive/Ex1.csv\", )"
      ],
      "execution_count": null,
      "outputs": []
    },
    {
      "cell_type": "code",
      "metadata": {
        "id": "O-rMIfyEcDwn"
      },
      "source": [
        "#data['NUM777'] = data['NUM777'] / 777\n",
        "data['APP_R'] = data['APP_R'].str.replace(',', '.')\n",
        "data['AVG'] = data['AVG'].str.replace(',', '.')\n",
        "\n",
        "data['APP_R'] = pd.to_numeric(data['APP_R'])\n",
        "data['AVG'] = pd.to_numeric(data['AVG'])"
      ],
      "execution_count": null,
      "outputs": []
    },
    {
      "cell_type": "code",
      "metadata": {
        "colab": {
          "base_uri": "https://localhost:8080/"
        },
        "id": "VXuQojQ_chR0",
        "outputId": "e7d3385b-6168-4a6a-ec88-0a99f1fd8185"
      },
      "source": [
        "data.info()"
      ],
      "execution_count": null,
      "outputs": [
        {
          "output_type": "stream",
          "name": "stdout",
          "text": [
            "<class 'pandas.core.frame.DataFrame'>\n",
            "Int64Index: 307 entries, 527505300 to 291595668\n",
            "Data columns (total 4 columns):\n",
            " #   Column       Non-Null Count  Dtype  \n",
            "---  ------       --------------  -----  \n",
            " 0   Count        307 non-null    int64  \n",
            " 1   Count_Error  307 non-null    int64  \n",
            " 2   APP_R        307 non-null    float64\n",
            " 3   AVG          307 non-null    float64\n",
            "dtypes: float64(2), int64(2)\n",
            "memory usage: 12.0 KB\n"
          ]
        }
      ]
    },
    {
      "cell_type": "code",
      "metadata": {
        "colab": {
          "base_uri": "https://localhost:8080/",
          "height": 237
        },
        "id": "fLKIDtiTf2AG",
        "outputId": "88694366-4c39-4081-a146-45572a41ecbc"
      },
      "source": [
        "data.head(5)"
      ],
      "execution_count": null,
      "outputs": [
        {
          "output_type": "execute_result",
          "data": {
            "text/html": [
              "<div>\n",
              "<style scoped>\n",
              "    .dataframe tbody tr th:only-of-type {\n",
              "        vertical-align: middle;\n",
              "    }\n",
              "\n",
              "    .dataframe tbody tr th {\n",
              "        vertical-align: top;\n",
              "    }\n",
              "\n",
              "    .dataframe thead th {\n",
              "        text-align: right;\n",
              "    }\n",
              "</style>\n",
              "<table border=\"1\" class=\"dataframe\">\n",
              "  <thead>\n",
              "    <tr style=\"text-align: right;\">\n",
              "      <th></th>\n",
              "      <th>Count</th>\n",
              "      <th>Count_Error</th>\n",
              "      <th>APP_R</th>\n",
              "      <th>AVG</th>\n",
              "    </tr>\n",
              "    <tr>\n",
              "      <th>NUM777</th>\n",
              "      <th></th>\n",
              "      <th></th>\n",
              "      <th></th>\n",
              "      <th></th>\n",
              "    </tr>\n",
              "  </thead>\n",
              "  <tbody>\n",
              "    <tr>\n",
              "      <th>527505300</th>\n",
              "      <td>39</td>\n",
              "      <td>0</td>\n",
              "      <td>0.71</td>\n",
              "      <td>25.48</td>\n",
              "    </tr>\n",
              "    <tr>\n",
              "      <th>550593855</th>\n",
              "      <td>31</td>\n",
              "      <td>0</td>\n",
              "      <td>0.64</td>\n",
              "      <td>29.30</td>\n",
              "    </tr>\n",
              "    <tr>\n",
              "      <th>293904135</th>\n",
              "      <td>29</td>\n",
              "      <td>0</td>\n",
              "      <td>0.69</td>\n",
              "      <td>39.67</td>\n",
              "    </tr>\n",
              "    <tr>\n",
              "      <th>901878663</th>\n",
              "      <td>37</td>\n",
              "      <td>0</td>\n",
              "      <td>0.69</td>\n",
              "      <td>22.53</td>\n",
              "    </tr>\n",
              "    <tr>\n",
              "      <th>1325663010</th>\n",
              "      <td>12</td>\n",
              "      <td>0</td>\n",
              "      <td>0.88</td>\n",
              "      <td>17.51</td>\n",
              "    </tr>\n",
              "  </tbody>\n",
              "</table>\n",
              "</div>"
            ],
            "text/plain": [
              "            Count  Count_Error  APP_R    AVG\n",
              "NUM777                                      \n",
              "527505300      39            0   0.71  25.48\n",
              "550593855      31            0   0.64  29.30\n",
              "293904135      29            0   0.69  39.67\n",
              "901878663      37            0   0.69  22.53\n",
              "1325663010     12            0   0.88  17.51"
            ]
          },
          "metadata": {},
          "execution_count": 95
        }
      ]
    },
    {
      "cell_type": "code",
      "metadata": {
        "id": "NYJEeX4V4rI8"
      },
      "source": [
        "#data.iloc[:,2:4].sort_values(by=[' \"Age\"'])\n",
        "x = data.loc[:,['Count_Error', 'APP_R', 'AVG']]\n",
        "col1 = 'Count_Error'\n",
        "col2 = 'APP_R'\n",
        "col3 = 'AVG'"
      ],
      "execution_count": null,
      "outputs": []
    },
    {
      "cell_type": "markdown",
      "metadata": {
        "id": "zxvd2f41tAqp"
      },
      "source": [
        "#2"
      ]
    },
    {
      "cell_type": "code",
      "metadata": {
        "colab": {
          "base_uri": "https://localhost:8080/",
          "height": 272
        },
        "id": "UwckKWZJ7obG",
        "outputId": "3223f831-7290-4c35-cfd7-4b89f3fb0896"
      },
      "source": [
        "plt.scatter(data[col1],data[col2])\n",
        "plt.xlim(data[col1].min()*0.9, data[col1].max()*1.1)\n",
        "plt.ylim(data[col2].min()*0.9, data[col2].max()*1.1)\n",
        "plt.show()"
      ],
      "execution_count": null,
      "outputs": [
        {
          "output_type": "display_data",
          "data": {
            "image/png": "[encoded data removed]",
            "text/plain": [
              "<Figure size 432x288 with 1 Axes>"
            ]
          },
          "metadata": {}
        }
      ]
    },
    {
      "cell_type": "code",
      "metadata": {
        "colab": {
          "base_uri": "https://localhost:8080/",
          "height": 268
        },
        "id": "R6ujfCMe7Xj5",
        "outputId": "78c725bd-798c-4259-93bb-b372b1927dc8"
      },
      "source": [
        "plt.scatter(data[col1],data[col3])\n",
        "plt.xlim(data[col1].min()*0.9, data[col1].max()*1.1)\n",
        "plt.ylim(data[col3].min()*0.9, data[col3].max()*1.1)\n",
        "plt.show()"
      ],
      "execution_count": null,
      "outputs": [
        {
          "output_type": "display_data",
          "data": {
            "image/png": "[encoded data removed]",
            "text/plain": [
              "<Figure size 432x288 with 1 Axes>"
            ]
          },
          "metadata": {}
        }
      ]
    },
    {
      "cell_type": "code",
      "metadata": {
        "colab": {
          "base_uri": "https://localhost:8080/",
          "height": 268
        },
        "id": "jQsN0J0m7jZl",
        "outputId": "9822d092-d865-4d92-b107-329aa05eda74"
      },
      "source": [
        "plt.scatter(data[col2],data[col3])\n",
        "plt.xlim(data[col2].min()*0.9, data[col2].max()*1.1)\n",
        "plt.ylim(data[col3].min()*0.9, data[col3].max()*1.1)\n",
        "plt.show()"
      ],
      "execution_count": null,
      "outputs": [
        {
          "output_type": "display_data",
          "data": {
            "image/png": "[encoded data removed]",
            "text/plain": [
              "<Figure size 432x288 with 1 Axes>"
            ]
          },
          "metadata": {}
        }
      ]
    },
    {
      "cell_type": "code",
      "metadata": {
        "colab": {
          "base_uri": "https://localhost:8080/",
          "height": 319
        },
        "id": "DhcHM468D_73",
        "outputId": "a10a2644-a684-42b9-ebb6-2bcef54e0ccf"
      },
      "source": [
        "wcss=[]\n",
        "for i in range(1,10):\n",
        "  kmeans = KMeans(i)\n",
        "  kmeans.fit(x)\n",
        "  wcss_iter = kmeans.inertia_\n",
        "  wcss.append(wcss_iter)\n",
        "\n",
        "number_clusters = range(1,10)\n",
        "plt.plot(number_clusters,wcss)\n",
        "plt.title('The Elbow')\n",
        "plt.xlabel('Number of clusters')\n",
        "plt.ylabel('WCSS')"
      ],
      "execution_count": null,
      "outputs": [
        {
          "output_type": "execute_result",
          "data": {
            "text/plain": [
              "Text(0, 0.5, 'WCSS')"
            ]
          },
          "metadata": {},
          "execution_count": 125
        },
        {
          "output_type": "display_data",
          "data": {
            "image/png": "[encoded data removed]",
            "text/plain": [
              "<Figure size 432x288 with 1 Axes>"
            ]
          },
          "metadata": {}
        }
      ]
    },
    {
      "cell_type": "code",
      "metadata": {
        "colab": {
          "base_uri": "https://localhost:8080/"
        },
        "id": "gxwq-aUtDAlg",
        "outputId": "7413381c-519b-4b10-fee8-839910f58023"
      },
      "source": [
        "kmeans = KMeans(3)\n",
        "kmeans.fit(x)\n",
        "\n",
        "identified_clusters = kmeans.fit_predict(x)\n",
        "identified_clusters"
      ],
      "execution_count": null,
      "outputs": [
        {
          "output_type": "execute_result",
          "data": {
            "text/plain": [
              "array([1, 0, 0, 1, 1, 1, 1, 1, 0, 0, 0, 1, 0, 0, 1, 0, 0, 1, 0, 0, 1, 0,\n",
              "       2, 2, 1, 1, 0, 0, 2, 2, 1, 2, 0, 1, 1, 1, 0, 0, 1, 0, 0, 0, 0, 2,\n",
              "       0, 1, 0, 0, 0, 2, 1, 2, 0, 1, 0, 0, 1, 2, 2, 1, 2, 0, 0, 1, 0, 1,\n",
              "       0, 1, 0, 0, 2, 0, 0, 2, 0, 0, 2, 0, 0, 0, 2, 0, 0, 0, 0, 2, 0, 1,\n",
              "       2, 0, 0, 0, 0, 0, 0, 1, 1, 0, 0, 1, 2, 1, 1, 0, 2, 0, 0, 0, 0, 0,\n",
              "       0, 0, 1, 0, 1, 0, 0, 0, 0, 2, 0, 1, 1, 1, 1, 0, 1, 0, 1, 1, 1, 0,\n",
              "       0, 1, 0, 0, 1, 1, 0, 2, 0, 0, 0, 2, 1, 2, 2, 0, 1, 1, 1, 1, 2, 2,\n",
              "       0, 1, 0, 1, 0, 1, 1, 0, 0, 0, 0, 1, 0, 0, 1, 0, 0, 0, 0, 0, 1, 1,\n",
              "       0, 0, 2, 1, 1, 0, 1, 1, 1, 1, 1, 0, 1, 1, 0, 2, 2, 1, 1, 1, 0, 1,\n",
              "       1, 0, 0, 2, 2, 0, 1, 1, 2, 1, 1, 0, 0, 0, 1, 0, 1, 0, 1, 1, 1, 1,\n",
              "       1, 0, 0, 1, 1, 0, 0, 2, 0, 2, 0, 0, 0, 0, 1, 1, 0, 2, 0, 1, 0, 1,\n",
              "       0, 1, 0, 1, 0, 0, 2, 0, 2, 1, 1, 1, 0, 0, 1, 1, 0, 1, 1, 1, 0, 0,\n",
              "       1, 0, 1, 0, 1, 0, 0, 0, 0, 0, 0, 1, 1, 2, 1, 2, 0, 0, 0, 0, 0, 0,\n",
              "       1, 0, 1, 0, 1, 1, 0, 1, 2, 1, 0, 2, 0, 0, 1, 1, 1, 0, 1, 1, 1],\n",
              "      dtype=int32)"
            ]
          },
          "metadata": {},
          "execution_count": 126
        }
      ]
    },
    {
      "cell_type": "code",
      "metadata": {
        "colab": {
          "base_uri": "https://localhost:8080/",
          "height": 285
        },
        "id": "tT5aDrknDsQl",
        "outputId": "c520aeee-eaab-47f5-dcb0-ca98e149b7dd"
      },
      "source": [
        "data_with_clusters = data.copy()\n",
        "data_with_clusters['Clusters'] = identified_clusters \n",
        "plt.scatter(data_with_clusters[col1],data_with_clusters[col2],c=data_with_clusters['Clusters'],cmap='rainbow')"
      ],
      "execution_count": null,
      "outputs": [
        {
          "output_type": "execute_result",
          "data": {
            "text/plain": [
              "<matplotlib.collections.PathCollection at 0x7fb2f565f850>"
            ]
          },
          "metadata": {},
          "execution_count": 127
        },
        {
          "output_type": "display_data",
          "data": {
            "image/png": "[encoded data removed]",
            "text/plain": [
              "<Figure size 432x288 with 1 Axes>"
            ]
          },
          "metadata": {}
        }
      ]
    },
    {
      "cell_type": "code",
      "metadata": {
        "colab": {
          "base_uri": "https://localhost:8080/",
          "height": 285
        },
        "id": "GuTp01cRwJvh",
        "outputId": "94ef50a4-91bc-4d06-c11c-a6fb5125f7d3"
      },
      "source": [
        "plt.scatter(data_with_clusters[col1], data_with_clusters[col3],c=data_with_clusters['Clusters'],cmap='rainbow')"
      ],
      "execution_count": null,
      "outputs": [
        {
          "output_type": "execute_result",
          "data": {
            "text/plain": [
              "<matplotlib.collections.PathCollection at 0x7fb2f5639d90>"
            ]
          },
          "metadata": {},
          "execution_count": 128
        },
        {
          "output_type": "display_data",
          "data": {
            "image/png": "[encoded data removed]",
            "text/plain": [
              "<Figure size 432x288 with 1 Axes>"
            ]
          },
          "metadata": {}
        }
      ]
    },
    {
      "cell_type": "code",
      "metadata": {
        "colab": {
          "base_uri": "https://localhost:8080/",
          "height": 285
        },
        "id": "IJYixDTCwJ6q",
        "outputId": "6ace5205-0c8c-4c21-dee3-129e792dfd41"
      },
      "source": [
        "plt.scatter(data_with_clusters[col2], data_with_clusters[col3],c=data_with_clusters['Clusters'],cmap='rainbow')"
      ],
      "execution_count": null,
      "outputs": [
        {
          "output_type": "execute_result",
          "data": {
            "text/plain": [
              "<matplotlib.collections.PathCollection at 0x7fb2f559dd90>"
            ]
          },
          "metadata": {},
          "execution_count": 129
        },
        {
          "output_type": "display_data",
          "data": {
            "image/png": "[encoded data removed]",
            "text/plain": [
              "<Figure size 432x288 with 1 Axes>"
            ]
          },
          "metadata": {}
        }
      ]
    },
    {
      "cell_type": "code",
      "metadata": {
        "colab": {
          "base_uri": "https://localhost:8080/",
          "height": 455
        },
        "id": "OHM3H0XZRyMl",
        "outputId": "2b273af1-55f6-41b9-b708-bc3f62f4a3d2"
      },
      "source": [
        "data_with_clusters"
      ],
      "execution_count": null,
      "outputs": [
        {
          "output_type": "execute_result",
          "data": {
            "text/html": [
              "<div>\n",
              "<style scoped>\n",
              "    .dataframe tbody tr th:only-of-type {\n",
              "        vertical-align: middle;\n",
              "    }\n",
              "\n",
              "    .dataframe tbody tr th {\n",
              "        vertical-align: top;\n",
              "    }\n",
              "\n",
              "    .dataframe thead th {\n",
              "        text-align: right;\n",
              "    }\n",
              "</style>\n",
              "<table border=\"1\" class=\"dataframe\">\n",
              "  <thead>\n",
              "    <tr style=\"text-align: right;\">\n",
              "      <th></th>\n",
              "      <th>Count</th>\n",
              "      <th>Count_Error</th>\n",
              "      <th>APP_R</th>\n",
              "      <th>AVG</th>\n",
              "      <th>Clusters</th>\n",
              "    </tr>\n",
              "    <tr>\n",
              "      <th>NUM777</th>\n",
              "      <th></th>\n",
              "      <th></th>\n",
              "      <th></th>\n",
              "      <th></th>\n",
              "      <th></th>\n",
              "    </tr>\n",
              "  </thead>\n",
              "  <tbody>\n",
              "    <tr>\n",
              "      <th>527505300</th>\n",
              "      <td>39</td>\n",
              "      <td>0</td>\n",
              "      <td>0.71</td>\n",
              "      <td>25.48</td>\n",
              "      <td>1</td>\n",
              "    </tr>\n",
              "    <tr>\n",
              "      <th>550593855</th>\n",
              "      <td>31</td>\n",
              "      <td>0</td>\n",
              "      <td>0.64</td>\n",
              "      <td>29.30</td>\n",
              "      <td>0</td>\n",
              "    </tr>\n",
              "    <tr>\n",
              "      <th>293904135</th>\n",
              "      <td>29</td>\n",
              "      <td>0</td>\n",
              "      <td>0.69</td>\n",
              "      <td>39.67</td>\n",
              "      <td>0</td>\n",
              "    </tr>\n",
              "    <tr>\n",
              "      <th>901878663</th>\n",
              "      <td>37</td>\n",
              "      <td>0</td>\n",
              "      <td>0.69</td>\n",
              "      <td>22.53</td>\n",
              "      <td>1</td>\n",
              "    </tr>\n",
              "    <tr>\n",
              "      <th>1325663010</th>\n",
              "      <td>12</td>\n",
              "      <td>0</td>\n",
              "      <td>0.88</td>\n",
              "      <td>17.51</td>\n",
              "      <td>1</td>\n",
              "    </tr>\n",
              "    <tr>\n",
              "      <th>...</th>\n",
              "      <td>...</td>\n",
              "      <td>...</td>\n",
              "      <td>...</td>\n",
              "      <td>...</td>\n",
              "      <td>...</td>\n",
              "    </tr>\n",
              "    <tr>\n",
              "      <th>301412286</th>\n",
              "      <td>4</td>\n",
              "      <td>0</td>\n",
              "      <td>0.84</td>\n",
              "      <td>21.66</td>\n",
              "      <td>1</td>\n",
              "    </tr>\n",
              "    <tr>\n",
              "      <th>1227741585</th>\n",
              "      <td>13</td>\n",
              "      <td>0</td>\n",
              "      <td>0.62</td>\n",
              "      <td>28.05</td>\n",
              "      <td>0</td>\n",
              "    </tr>\n",
              "    <tr>\n",
              "      <th>292483779</th>\n",
              "      <td>19</td>\n",
              "      <td>0</td>\n",
              "      <td>0.75</td>\n",
              "      <td>18.63</td>\n",
              "      <td>1</td>\n",
              "    </tr>\n",
              "    <tr>\n",
              "      <th>291726204</th>\n",
              "      <td>14</td>\n",
              "      <td>0</td>\n",
              "      <td>0.78</td>\n",
              "      <td>14.36</td>\n",
              "      <td>1</td>\n",
              "    </tr>\n",
              "    <tr>\n",
              "      <th>291595668</th>\n",
              "      <td>15</td>\n",
              "      <td>0</td>\n",
              "      <td>0.79</td>\n",
              "      <td>17.96</td>\n",
              "      <td>1</td>\n",
              "    </tr>\n",
              "  </tbody>\n",
              "</table>\n",
              "<p>307 rows × 5 columns</p>\n",
              "</div>"
            ],
            "text/plain": [
              "            Count  Count_Error  APP_R    AVG  Clusters\n",
              "NUM777                                                \n",
              "527505300      39            0   0.71  25.48         1\n",
              "550593855      31            0   0.64  29.30         0\n",
              "293904135      29            0   0.69  39.67         0\n",
              "901878663      37            0   0.69  22.53         1\n",
              "1325663010     12            0   0.88  17.51         1\n",
              "...           ...          ...    ...    ...       ...\n",
              "301412286       4            0   0.84  21.66         1\n",
              "1227741585     13            0   0.62  28.05         0\n",
              "292483779      19            0   0.75  18.63         1\n",
              "291726204      14            0   0.78  14.36         1\n",
              "291595668      15            0   0.79  17.96         1\n",
              "\n",
              "[307 rows x 5 columns]"
            ]
          },
          "metadata": {},
          "execution_count": 132
        }
      ]
    },
    {
      "cell_type": "markdown",
      "metadata": {
        "id": "1RJDv7E9j6ou"
      },
      "source": [
        "#3"
      ]
    },
    {
      "cell_type": "code",
      "metadata": {
        "id": "JyQ6jDI62Q2S"
      },
      "source": [
        "import numpy as np\n",
        "import pandas as pd\n",
        "import statsmodels.api as sm\n",
        "import matplotlib.pyplot as plt\n",
        "import seaborn as sns\n",
        "sns.set()\n",
        "from sklearn.cluster import KMeans\n",
        "from sklearn.preprocessing import StandardScaler, normalize\n",
        "from sklearn.metrics import silhouette_score"
      ],
      "execution_count": null,
      "outputs": []
    },
    {
      "cell_type": "code",
      "metadata": {
        "id": "fcANuwn83eGX"
      },
      "source": [
        "#K-Means works with Numeric Data\n",
        "selected_cols = [' \"Age\"', ]"
      ],
      "execution_count": null,
      "outputs": []
    }
  ]
}